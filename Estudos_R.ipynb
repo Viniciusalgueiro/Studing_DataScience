{
  "cells": [
    {
      "cell_type": "markdown",
      "metadata": {
        "id": "view-in-github",
        "colab_type": "text"
      },
      "source": [
        "<a href=\"https://colab.research.google.com/github/Viniciusalgueiro/Studing_DataScience/blob/main/Estudos_R.ipynb\" target=\"_parent\"><img src=\"https://colab.research.google.com/assets/colab-badge.svg\" alt=\"Open In Colab\"/></a>"
      ]
    },
    {
      "cell_type": "code",
      "execution_count": 45,
      "metadata": {
        "id": "_YgLdkDR2cMN"
      },
      "outputs": [],
      "source": [
        "rm(list=ls())"
      ]
    },
    {
      "cell_type": "code",
      "execution_count": 46,
      "metadata": {
        "id": "08oxXYnAtUpG"
      },
      "outputs": [],
      "source": [
        "Dados = read.csv2(\"http://www.uel.br/pessoal/silvano/Dados/Tilapia.csv\", header=T, sep=\";\")"
      ]
    },
    {
      "cell_type": "code",
      "execution_count": 47,
      "metadata": {
        "colab": {
          "base_uri": "https://localhost:8080/",
          "height": 51
        },
        "id": "uD5rJD3f2xwk",
        "outputId": "9b8e7c6d-c728-4a2b-f790-888a8f7954be"
      },
      "outputs": [
        {
          "output_type": "display_data",
          "data": {
            "text/html": [
              "'/content'"
            ],
            "text/markdown": "'/content'",
            "text/latex": "'/content'",
            "text/plain": [
              "[1] \"/content\""
            ]
          },
          "metadata": {}
        },
        {
          "output_type": "display_data",
          "data": {
            "text/html": [
              "'Dados'"
            ],
            "text/markdown": "'Dados'",
            "text/latex": "'Dados'",
            "text/plain": [
              "[1] \"Dados\""
            ]
          },
          "metadata": {}
        }
      ],
      "source": [
        "getwd()\n",
        "ls()\n"
      ]
    },
    {
      "cell_type": "code",
      "execution_count": 48,
      "metadata": {
        "colab": {
          "base_uri": "https://localhost:8080/"
        },
        "id": "t0-BhjNC27yQ",
        "outputId": "6e277411-cb15-4799-fd9f-b9147578440b"
      },
      "outputs": [
        {
          "output_type": "stream",
          "name": "stderr",
          "text": [
            "The following objects are masked from Dados (pos = 3):\n",
            "\n",
            "    Alt, Comp, Comp_cabeca, Equipe, Inducao, Peso, Recup, Turma\n",
            "\n",
            "\n",
            "The following objects are masked from Dados (pos = 4):\n",
            "\n",
            "    Alt, Comp, Comp_cabeca, Equipe, Inducao, Peso, Recup, Turma\n",
            "\n",
            "\n",
            "The following objects are masked from Dados (pos = 5):\n",
            "\n",
            "    Alt, Comp, Comp_cabeca, Equipe, Inducao, Peso, Recup, Turma\n",
            "\n",
            "\n",
            "The following objects are masked from Dados (pos = 6):\n",
            "\n",
            "    Alt, Comp, Comp_cabeca, Equipe, Inducao, Peso, Recup, Turma\n",
            "\n",
            "\n"
          ]
        },
        {
          "output_type": "stream",
          "name": "stdout",
          "text": [
            "'data.frame':\t40 obs. of  8 variables:\n",
            " $ Turma      : int  2000 2000 2000 2000 2000 2000 2000 2000 2000 2000 ...\n",
            " $ Equipe     : int  2021 2021 2021 2021 2021 2021 2021 2021 2021 2021 ...\n",
            " $ Inducao    : int  165 183 161 108 146 147 173 193 160 155 ...\n",
            " $ Peso       : num  408 400 397 432 336 ...\n",
            " $ Comp       : num  29 29.5 29.3 29.5 26.2 25.8 29.8 27.5 26.7 27 ...\n",
            " $ Alt        : num  7.3 9 8.7 9.1 8.5 8.1 8.5 8.4 8.3 7.7 ...\n",
            " $ Comp_cabeca: num  7.8 7.3 8 7.6 6.9 6.7 7.5 7.2 6.9 7.2 ...\n",
            " $ Recup      : num  17 8.9 28.7 115 8.9 20.5 43.9 40 60 28.8 ...\n"
          ]
        }
      ],
      "source": [
        "attach(Dados)\n",
        "str(Dados)"
      ]
    },
    {
      "cell_type": "code",
      "execution_count": 49,
      "metadata": {
        "colab": {
          "base_uri": "https://localhost:8080/",
          "height": 34
        },
        "id": "k3ZF8mCZ6NBH",
        "outputId": "53266139-c7c5-4eb5-ebaa-aadfabd66208"
      },
      "outputs": [
        {
          "output_type": "display_data",
          "data": {
            "text/html": [
              "<style>\n",
              ".list-inline {list-style: none; margin:0; padding: 0}\n",
              ".list-inline>li {display: inline-block}\n",
              ".list-inline>li:not(:last-child)::after {content: \"\\00b7\"; padding: 0 .5ex}\n",
              "</style>\n",
              "<ol class=list-inline><li>40</li><li>8</li></ol>\n"
            ],
            "text/markdown": "1. 40\n2. 8\n\n\n",
            "text/latex": "\\begin{enumerate*}\n\\item 40\n\\item 8\n\\end{enumerate*}\n",
            "text/plain": [
              "[1] 40  8"
            ]
          },
          "metadata": {}
        }
      ],
      "source": [
        "dim(Dados) #Dimensao dos dataframe"
      ]
    },
    {
      "cell_type": "code",
      "execution_count": 50,
      "metadata": {
        "colab": {
          "base_uri": "https://localhost:8080/",
          "height": 51
        },
        "id": "qxVHY-Jc6bYR",
        "outputId": "9868f417-441f-4339-bd1d-a6d46c69ff9f"
      },
      "outputs": [
        {
          "output_type": "display_data",
          "data": {
            "text/html": [
              "<style>\n",
              ".list-inline {list-style: none; margin:0; padding: 0}\n",
              ".list-inline>li {display: inline-block}\n",
              ".list-inline>li:not(:last-child)::after {content: \"\\00b7\"; padding: 0 .5ex}\n",
              "</style>\n",
              "<ol class=list-inline><li>'Turma'</li><li>'Equipe'</li><li>'Inducao'</li><li>'Peso'</li><li>'Comp'</li><li>'Alt'</li><li>'Comp_cabeca'</li><li>'Recup'</li></ol>\n"
            ],
            "text/markdown": "1. 'Turma'\n2. 'Equipe'\n3. 'Inducao'\n4. 'Peso'\n5. 'Comp'\n6. 'Alt'\n7. 'Comp_cabeca'\n8. 'Recup'\n\n\n",
            "text/latex": "\\begin{enumerate*}\n\\item 'Turma'\n\\item 'Equipe'\n\\item 'Inducao'\n\\item 'Peso'\n\\item 'Comp'\n\\item 'Alt'\n\\item 'Comp\\_cabeca'\n\\item 'Recup'\n\\end{enumerate*}\n",
            "text/plain": [
              "[1] \"Turma\"       \"Equipe\"      \"Inducao\"     \"Peso\"        \"Comp\"       \n",
              "[6] \"Alt\"         \"Comp_cabeca\" \"Recup\"      "
            ]
          },
          "metadata": {}
        },
        {
          "output_type": "display_data",
          "data": {
            "text/html": [
              "<style>\n",
              ".list-inline {list-style: none; margin:0; padding: 0}\n",
              ".list-inline>li {display: inline-block}\n",
              ".list-inline>li:not(:last-child)::after {content: \"\\00b7\"; padding: 0 .5ex}\n",
              "</style>\n",
              "<ol class=list-inline><li>'Turma'</li><li>'Equipe'</li><li>'Inducao'</li><li>'Peso'</li><li>'Comp'</li><li>'Alt'</li><li>'Comp_cabeca'</li><li>'Recup'</li></ol>\n"
            ],
            "text/markdown": "1. 'Turma'\n2. 'Equipe'\n3. 'Inducao'\n4. 'Peso'\n5. 'Comp'\n6. 'Alt'\n7. 'Comp_cabeca'\n8. 'Recup'\n\n\n",
            "text/latex": "\\begin{enumerate*}\n\\item 'Turma'\n\\item 'Equipe'\n\\item 'Inducao'\n\\item 'Peso'\n\\item 'Comp'\n\\item 'Alt'\n\\item 'Comp\\_cabeca'\n\\item 'Recup'\n\\end{enumerate*}\n",
            "text/plain": [
              "[1] \"Turma\"       \"Equipe\"      \"Inducao\"     \"Peso\"        \"Comp\"       \n",
              "[6] \"Alt\"         \"Comp_cabeca\" \"Recup\"      "
            ]
          },
          "metadata": {}
        }
      ],
      "source": [
        "names(Dados)\n",
        "colnames(Dados)"
      ]
    },
    {
      "cell_type": "code",
      "execution_count": 51,
      "metadata": {
        "colab": {
          "base_uri": "https://localhost:8080/",
          "height": 286
        },
        "id": "E5bCeq9U6svf",
        "outputId": "d67956a2-a680-4954-cbd3-83e6753dccff"
      },
      "outputs": [
        {
          "output_type": "display_data",
          "data": {
            "text/html": [
              "<table class=\"dataframe\">\n",
              "<caption>A data.frame: 6 × 8</caption>\n",
              "<thead>\n",
              "\t<tr><th></th><th scope=col>Turma</th><th scope=col>Equipe</th><th scope=col>Inducao</th><th scope=col>Peso</th><th scope=col>Comp</th><th scope=col>Alt</th><th scope=col>Comp_cabeca</th><th scope=col>Recup</th></tr>\n",
              "\t<tr><th></th><th scope=col>&lt;int&gt;</th><th scope=col>&lt;int&gt;</th><th scope=col>&lt;int&gt;</th><th scope=col>&lt;dbl&gt;</th><th scope=col>&lt;dbl&gt;</th><th scope=col>&lt;dbl&gt;</th><th scope=col>&lt;dbl&gt;</th><th scope=col>&lt;dbl&gt;</th></tr>\n",
              "</thead>\n",
              "<tbody>\n",
              "\t<tr><th scope=row>1</th><td>2000</td><td>2021</td><td>165</td><td>408.5</td><td>29.0</td><td>7.3</td><td>7.8</td><td> 17.0</td></tr>\n",
              "\t<tr><th scope=row>2</th><td>2000</td><td>2021</td><td>183</td><td>400.0</td><td>29.5</td><td>9.0</td><td>7.3</td><td>  8.9</td></tr>\n",
              "\t<tr><th scope=row>3</th><td>2000</td><td>2021</td><td>161</td><td>397.2</td><td>29.3</td><td>8.7</td><td>8.0</td><td> 28.7</td></tr>\n",
              "\t<tr><th scope=row>4</th><td>2000</td><td>2021</td><td>108</td><td>431.6</td><td>29.5</td><td>9.1</td><td>7.6</td><td>115.0</td></tr>\n",
              "\t<tr><th scope=row>5</th><td>2000</td><td>2021</td><td>146</td><td>336.5</td><td>26.2</td><td>8.5</td><td>6.9</td><td>  8.9</td></tr>\n",
              "\t<tr><th scope=row>6</th><td>2000</td><td>2021</td><td>147</td><td>309.4</td><td>25.8</td><td>8.1</td><td>6.7</td><td> 20.5</td></tr>\n",
              "</tbody>\n",
              "</table>\n"
            ],
            "text/markdown": "\nA data.frame: 6 × 8\n\n| <!--/--> | Turma &lt;int&gt; | Equipe &lt;int&gt; | Inducao &lt;int&gt; | Peso &lt;dbl&gt; | Comp &lt;dbl&gt; | Alt &lt;dbl&gt; | Comp_cabeca &lt;dbl&gt; | Recup &lt;dbl&gt; |\n|---|---|---|---|---|---|---|---|---|\n| 1 | 2000 | 2021 | 165 | 408.5 | 29.0 | 7.3 | 7.8 |  17.0 |\n| 2 | 2000 | 2021 | 183 | 400.0 | 29.5 | 9.0 | 7.3 |   8.9 |\n| 3 | 2000 | 2021 | 161 | 397.2 | 29.3 | 8.7 | 8.0 |  28.7 |\n| 4 | 2000 | 2021 | 108 | 431.6 | 29.5 | 9.1 | 7.6 | 115.0 |\n| 5 | 2000 | 2021 | 146 | 336.5 | 26.2 | 8.5 | 6.9 |   8.9 |\n| 6 | 2000 | 2021 | 147 | 309.4 | 25.8 | 8.1 | 6.7 |  20.5 |\n\n",
            "text/latex": "A data.frame: 6 × 8\n\\begin{tabular}{r|llllllll}\n  & Turma & Equipe & Inducao & Peso & Comp & Alt & Comp\\_cabeca & Recup\\\\\n  & <int> & <int> & <int> & <dbl> & <dbl> & <dbl> & <dbl> & <dbl>\\\\\n\\hline\n\t1 & 2000 & 2021 & 165 & 408.5 & 29.0 & 7.3 & 7.8 &  17.0\\\\\n\t2 & 2000 & 2021 & 183 & 400.0 & 29.5 & 9.0 & 7.3 &   8.9\\\\\n\t3 & 2000 & 2021 & 161 & 397.2 & 29.3 & 8.7 & 8.0 &  28.7\\\\\n\t4 & 2000 & 2021 & 108 & 431.6 & 29.5 & 9.1 & 7.6 & 115.0\\\\\n\t5 & 2000 & 2021 & 146 & 336.5 & 26.2 & 8.5 & 6.9 &   8.9\\\\\n\t6 & 2000 & 2021 & 147 & 309.4 & 25.8 & 8.1 & 6.7 &  20.5\\\\\n\\end{tabular}\n",
            "text/plain": [
              "  Turma Equipe Inducao Peso  Comp Alt Comp_cabeca Recup\n",
              "1 2000  2021   165     408.5 29.0 7.3 7.8          17.0\n",
              "2 2000  2021   183     400.0 29.5 9.0 7.3           8.9\n",
              "3 2000  2021   161     397.2 29.3 8.7 8.0          28.7\n",
              "4 2000  2021   108     431.6 29.5 9.1 7.6         115.0\n",
              "5 2000  2021   146     336.5 26.2 8.5 6.9           8.9\n",
              "6 2000  2021   147     309.4 25.8 8.1 6.7          20.5"
            ]
          },
          "metadata": {}
        }
      ],
      "source": [
        "head(Dados)"
      ]
    },
    {
      "cell_type": "code",
      "execution_count": 52,
      "metadata": {
        "colab": {
          "base_uri": "https://localhost:8080/",
          "height": 286
        },
        "id": "-ahCwc4D6uxy",
        "outputId": "4b104beb-1818-4cb1-da72-fe631b08fd7a"
      },
      "outputs": [
        {
          "output_type": "display_data",
          "data": {
            "text/html": [
              "<table class=\"dataframe\">\n",
              "<caption>A data.frame: 6 × 8</caption>\n",
              "<thead>\n",
              "\t<tr><th></th><th scope=col>Turma</th><th scope=col>Equipe</th><th scope=col>Inducao</th><th scope=col>Peso</th><th scope=col>Comp</th><th scope=col>Alt</th><th scope=col>Comp_cabeca</th><th scope=col>Recup</th></tr>\n",
              "\t<tr><th></th><th scope=col>&lt;int&gt;</th><th scope=col>&lt;int&gt;</th><th scope=col>&lt;int&gt;</th><th scope=col>&lt;dbl&gt;</th><th scope=col>&lt;dbl&gt;</th><th scope=col>&lt;dbl&gt;</th><th scope=col>&lt;dbl&gt;</th><th scope=col>&lt;dbl&gt;</th></tr>\n",
              "</thead>\n",
              "<tbody>\n",
              "\t<tr><th scope=row>35</th><td>1000</td><td>1012</td><td> 82</td><td>516.4</td><td>30.8</td><td>9.4</td><td>8.4</td><td>110</td></tr>\n",
              "\t<tr><th scope=row>36</th><td>1000</td><td>1012</td><td> 82</td><td>400.3</td><td>28.5</td><td>8.9</td><td>7.1</td><td>120</td></tr>\n",
              "\t<tr><th scope=row>37</th><td>1000</td><td>1012</td><td>107</td><td>406.6</td><td>30.0</td><td>8.5</td><td>7.4</td><td>100</td></tr>\n",
              "\t<tr><th scope=row>38</th><td>1000</td><td>1012</td><td> 72</td><td>366.8</td><td>27.0</td><td>8.0</td><td>7.3</td><td>100</td></tr>\n",
              "\t<tr><th scope=row>39</th><td>1000</td><td>1012</td><td> 85</td><td>357.4</td><td>28.5</td><td>8.3</td><td>7.2</td><td>135</td></tr>\n",
              "\t<tr><th scope=row>40</th><td>1000</td><td>1012</td><td> 60</td><td>389.9</td><td>29.1</td><td>8.1</td><td>7.3</td><td>150</td></tr>\n",
              "</tbody>\n",
              "</table>\n"
            ],
            "text/markdown": "\nA data.frame: 6 × 8\n\n| <!--/--> | Turma &lt;int&gt; | Equipe &lt;int&gt; | Inducao &lt;int&gt; | Peso &lt;dbl&gt; | Comp &lt;dbl&gt; | Alt &lt;dbl&gt; | Comp_cabeca &lt;dbl&gt; | Recup &lt;dbl&gt; |\n|---|---|---|---|---|---|---|---|---|\n| 35 | 1000 | 1012 |  82 | 516.4 | 30.8 | 9.4 | 8.4 | 110 |\n| 36 | 1000 | 1012 |  82 | 400.3 | 28.5 | 8.9 | 7.1 | 120 |\n| 37 | 1000 | 1012 | 107 | 406.6 | 30.0 | 8.5 | 7.4 | 100 |\n| 38 | 1000 | 1012 |  72 | 366.8 | 27.0 | 8.0 | 7.3 | 100 |\n| 39 | 1000 | 1012 |  85 | 357.4 | 28.5 | 8.3 | 7.2 | 135 |\n| 40 | 1000 | 1012 |  60 | 389.9 | 29.1 | 8.1 | 7.3 | 150 |\n\n",
            "text/latex": "A data.frame: 6 × 8\n\\begin{tabular}{r|llllllll}\n  & Turma & Equipe & Inducao & Peso & Comp & Alt & Comp\\_cabeca & Recup\\\\\n  & <int> & <int> & <int> & <dbl> & <dbl> & <dbl> & <dbl> & <dbl>\\\\\n\\hline\n\t35 & 1000 & 1012 &  82 & 516.4 & 30.8 & 9.4 & 8.4 & 110\\\\\n\t36 & 1000 & 1012 &  82 & 400.3 & 28.5 & 8.9 & 7.1 & 120\\\\\n\t37 & 1000 & 1012 & 107 & 406.6 & 30.0 & 8.5 & 7.4 & 100\\\\\n\t38 & 1000 & 1012 &  72 & 366.8 & 27.0 & 8.0 & 7.3 & 100\\\\\n\t39 & 1000 & 1012 &  85 & 357.4 & 28.5 & 8.3 & 7.2 & 135\\\\\n\t40 & 1000 & 1012 &  60 & 389.9 & 29.1 & 8.1 & 7.3 & 150\\\\\n\\end{tabular}\n",
            "text/plain": [
              "   Turma Equipe Inducao Peso  Comp Alt Comp_cabeca Recup\n",
              "35 1000  1012    82     516.4 30.8 9.4 8.4         110  \n",
              "36 1000  1012    82     400.3 28.5 8.9 7.1         120  \n",
              "37 1000  1012   107     406.6 30.0 8.5 7.4         100  \n",
              "38 1000  1012    72     366.8 27.0 8.0 7.3         100  \n",
              "39 1000  1012    85     357.4 28.5 8.3 7.2         135  \n",
              "40 1000  1012    60     389.9 29.1 8.1 7.3         150  "
            ]
          },
          "metadata": {}
        }
      ],
      "source": [
        "tail(Dados)"
      ]
    },
    {
      "cell_type": "code",
      "execution_count": 53,
      "metadata": {
        "colab": {
          "base_uri": "https://localhost:8080/",
          "height": 51
        },
        "id": "NufcRiKx67ZV",
        "outputId": "4c46c126-38b2-471b-e52e-7a8dcfff7bd9"
      },
      "outputs": [
        {
          "output_type": "display_data",
          "data": {
            "text/html": [
              "<style>\n",
              ".list-inline {list-style: none; margin:0; padding: 0}\n",
              ".list-inline>li {display: inline-block}\n",
              ".list-inline>li:not(:last-child)::after {content: \"\\00b7\"; padding: 0 .5ex}\n",
              "</style>\n",
              "<ol class=list-inline><li>FALSE</li><li>TRUE</li><li>TRUE</li><li>TRUE</li><li>TRUE</li><li>TRUE</li><li>TRUE</li><li>TRUE</li><li>TRUE</li><li>TRUE</li><li>TRUE</li><li>TRUE</li><li>TRUE</li><li>TRUE</li><li>TRUE</li><li>TRUE</li><li>TRUE</li><li>TRUE</li><li>TRUE</li><li>TRUE</li><li>FALSE</li><li>TRUE</li><li>TRUE</li><li>TRUE</li><li>TRUE</li><li>TRUE</li><li>TRUE</li><li>TRUE</li><li>TRUE</li><li>TRUE</li><li>TRUE</li><li>TRUE</li><li>TRUE</li><li>TRUE</li><li>TRUE</li><li>TRUE</li><li>TRUE</li><li>TRUE</li><li>TRUE</li><li>TRUE</li></ol>\n"
            ],
            "text/markdown": "1. FALSE\n2. TRUE\n3. TRUE\n4. TRUE\n5. TRUE\n6. TRUE\n7. TRUE\n8. TRUE\n9. TRUE\n10. TRUE\n11. TRUE\n12. TRUE\n13. TRUE\n14. TRUE\n15. TRUE\n16. TRUE\n17. TRUE\n18. TRUE\n19. TRUE\n20. TRUE\n21. FALSE\n22. TRUE\n23. TRUE\n24. TRUE\n25. TRUE\n26. TRUE\n27. TRUE\n28. TRUE\n29. TRUE\n30. TRUE\n31. TRUE\n32. TRUE\n33. TRUE\n34. TRUE\n35. TRUE\n36. TRUE\n37. TRUE\n38. TRUE\n39. TRUE\n40. TRUE\n\n\n",
            "text/latex": "\\begin{enumerate*}\n\\item FALSE\n\\item TRUE\n\\item TRUE\n\\item TRUE\n\\item TRUE\n\\item TRUE\n\\item TRUE\n\\item TRUE\n\\item TRUE\n\\item TRUE\n\\item TRUE\n\\item TRUE\n\\item TRUE\n\\item TRUE\n\\item TRUE\n\\item TRUE\n\\item TRUE\n\\item TRUE\n\\item TRUE\n\\item TRUE\n\\item FALSE\n\\item TRUE\n\\item TRUE\n\\item TRUE\n\\item TRUE\n\\item TRUE\n\\item TRUE\n\\item TRUE\n\\item TRUE\n\\item TRUE\n\\item TRUE\n\\item TRUE\n\\item TRUE\n\\item TRUE\n\\item TRUE\n\\item TRUE\n\\item TRUE\n\\item TRUE\n\\item TRUE\n\\item TRUE\n\\end{enumerate*}\n",
            "text/plain": [
              " [1] FALSE  TRUE  TRUE  TRUE  TRUE  TRUE  TRUE  TRUE  TRUE  TRUE  TRUE  TRUE\n",
              "[13]  TRUE  TRUE  TRUE  TRUE  TRUE  TRUE  TRUE  TRUE FALSE  TRUE  TRUE  TRUE\n",
              "[25]  TRUE  TRUE  TRUE  TRUE  TRUE  TRUE  TRUE  TRUE  TRUE  TRUE  TRUE  TRUE\n",
              "[37]  TRUE  TRUE  TRUE  TRUE"
            ]
          },
          "metadata": {}
        }
      ],
      "source": [
        "duplicated(Dados$Turma)"
      ]
    },
    {
      "cell_type": "markdown",
      "metadata": {
        "id": "wFIRjKhy7F1a"
      },
      "source": [
        "**Graficos**"
      ]
    },
    {
      "cell_type": "code",
      "execution_count": 54,
      "metadata": {
        "colab": {
          "base_uri": "https://localhost:8080/",
          "height": 437
        },
        "id": "vQACGUIf7FSx",
        "outputId": "ce42b1f9-d465-4e25-a4e1-e99f27cd136c"
      },
      "outputs": [
        {
          "output_type": "display_data",
          "data": {
            "text/plain": [
              "Plot with title “Histogram of Peso”"
            ],
            "image/png": "[encoded data removed]"
          },
          "metadata": {
            "image/png": {
              "width": 420,
              "height": 420
            }
          }
        }
      ],
      "source": [
        "hist(Peso)"
      ]
    },
    {
      "cell_type": "code",
      "source": [
        "plot(Peso)"
      ],
      "metadata": {
        "colab": {
          "base_uri": "https://localhost:8080/",
          "height": 857
        },
        "id": "WAUnMoCM8O7X",
        "outputId": "988198e5-4881-4ce4-d461-57c3997eb21c"
      },
      "execution_count": 55,
      "outputs": [
        {
          "output_type": "display_data",
          "data": {
            "text/plain": [
              "plot without title"
            ],
            "image/png": "[encoded data removed]"
          },
          "metadata": {
            "image/png": {
              "width": 420,
              "height": 420
            }
          }
        },
        {
          "output_type": "display_data",
          "data": {
            "text/plain": [
              "plot without title"
            ],
            "image/png": "[encoded data removed]"
          },
          "metadata": {
            "image/png": {
              "width": 420,
              "height": 420
            }
          }
        }
      ]
    }
  ],
  "metadata": {
    "colab": {
      "provenance": [],
      "authorship_tag": "ABX9TyM/C7oOwnOmCn/OM0v9xepX",
      "include_colab_link": true
    },
    "kernelspec": {
      "display_name": "R",
      "name": "ir"
    },
    "language_info": {
      "name": "R"
    }
  },
  "nbformat": 4,
  "nbformat_minor": 0
}