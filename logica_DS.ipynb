{
  "nbformat": 4,
  "nbformat_minor": 0,
  "metadata": {
    "colab": {
      "name": "Untitled1.ipynb",
      "provenance": [],
      "collapsed_sections": [
        "nfkFO_-0RMhh",
        "Jm6RyNXdVgOB",
        "8cuAM5isGHQo"
      ],
      "authorship_tag": "ABX9TyMjj1VamZ1DuFq0ENxTSMix",
      "include_colab_link": true
    },
    "kernelspec": {
      "name": "python3",
      "display_name": "Python 3"
    },
    "language_info": {
      "name": "python"
    }
  },
  "cells": [
    {
      "cell_type": "markdown",
      "metadata": {
        "id": "view-in-github",
        "colab_type": "text"
      },
      "source": [
        "<a href=\"https://colab.research.google.com/github/Viniciusalgueiro/Studing_DataScience/blob/main/logica_DS.ipynb\" target=\"_parent\"><img src=\"https://colab.research.google.com/assets/colab-badge.svg\" alt=\"Open In Colab\"/></a>"
      ]
    },
    {
      "cell_type": "markdown",
      "metadata": {
        "id": "2GqPJXq4LKLz"
      },
      "source": [
        "# **Parâmetros**"
      ]
    },
    {
      "cell_type": "code",
      "metadata": {
        "colab": {
          "base_uri": "https://localhost:8080/"
        },
        "id": "C8f310fbKMty",
        "outputId": "06686b4c-2c91-4aa8-e458-a5640ddc3fd5"
      },
      "source": [
        "nome = 'Luisa'\n",
        "\n",
        "def saudacao (nome_pessoa):\n",
        "  print(f'ola {nome}')\n",
        "\n",
        "saudacao(nome)"
      ],
      "execution_count": null,
      "outputs": [
        {
          "output_type": "stream",
          "text": [
            "ola Luisa\n"
          ],
          "name": "stdout"
        }
      ]
    },
    {
      "cell_type": "markdown",
      "metadata": {
        "id": "hWq2lVOeLWdz"
      },
      "source": [
        "# **Condicional**"
      ]
    },
    {
      "cell_type": "code",
      "metadata": {
        "colab": {
          "base_uri": "https://localhost:8080/"
        },
        "id": "3yTCgx5lK_2q",
        "outputId": "a326f2ce-e634-4d9d-b453-9304fa1d8c50"
      },
      "source": [
        "idade = 10\n",
        "\n",
        "def verificacao (idade):\n",
        "  if idade >= 18:\n",
        "    print('Tem permissao para dirigir')\n",
        "  else:\n",
        "    print('não tem permissao para dirigir')  \n",
        "\n",
        "verificacao(idade)    "
      ],
      "execution_count": null,
      "outputs": [
        {
          "output_type": "stream",
          "text": [
            "não permissao para dirigir\n"
          ],
          "name": "stdout"
        }
      ]
    },
    {
      "cell_type": "markdown",
      "metadata": {
        "id": "1zzG1mrsM5tD"
      },
      "source": [
        "**Convertendo *string* para numero inteiro** \n",
        "# Nova seção\n",
        "\n",
        "\n"
      ]
    },
    {
      "cell_type": "code",
      "metadata": {
        "colab": {
          "base_uri": "https://localhost:8080/"
        },
        "id": "aDUn4QTHLgxM",
        "outputId": "4baf558d-9146-440b-c90b-d7488f57fdad"
      },
      "source": [
        "def verificacao_sem_parametros():\n",
        "  idade= input('qual sua idade')\n",
        "  idade = int(idade)\n",
        "  if idade >= 18:\n",
        "    print('Tem permissao para dirigir')\n",
        "  else:\n",
        "    print('Não tem permissão para dirigir')\n",
        "\n",
        "verificacao_sem_parametros()      \n"
      ],
      "execution_count": null,
      "outputs": [
        {
          "output_type": "stream",
          "text": [
            "qual sua idade15\n",
            "Não tem permissão para dirigir\n"
          ],
          "name": "stdout"
        }
      ]
    },
    {
      "cell_type": "markdown",
      "metadata": {
        "id": "LcloAGfaNxlr"
      },
      "source": [
        "# **LISTA**\n",
        "\n"
      ]
    },
    {
      "cell_type": "code",
      "metadata": {
        "colab": {
          "base_uri": "https://localhost:8080/"
        },
        "id": "1f52B_3BMPqA",
        "outputId": "59dd4a2e-80f1-4d98-f84f-8def38a0405a"
      },
      "source": [
        "idade = [18 , 22 , 15 , 50]\n",
        "type(idade)\n",
        "idade[0]\n",
        "idade[0:2]\n",
        "idade[-1] #ultima idade"
      ],
      "execution_count": null,
      "outputs": [
        {
          "output_type": "execute_result",
          "data": {
            "text/plain": [
              "50"
            ]
          },
          "metadata": {
            "tags": []
          },
          "execution_count": 26
        }
      ]
    },
    {
      "cell_type": "markdown",
      "metadata": {
        "id": "nfkFO_-0RMhh"
      },
      "source": [
        "# **Laços**"
      ]
    },
    {
      "cell_type": "code",
      "metadata": {
        "colab": {
          "base_uri": "https://localhost:8080/"
        },
        "id": "ea5Bi9TPOLFV",
        "outputId": "1be36e95-c022-46d3-c845-c88225f8ce63"
      },
      "source": [
        "idades = [18 , 22 , 15 , 50]\n",
        "\n",
        "def verifica_se_pode_dirigir(idade):\n",
        "  for idade in idades: \n",
        "    if idade >= 18:\n",
        "      print(f'{idade} anos de idade, TEM permissão para dirigir')\n",
        "    else:\n",
        "      print(f'{idade} anos de idade, NÃO TEM permissão para dirigir')\n",
        "\n",
        "verifica_se_pode_dirigir(idades)"
      ],
      "execution_count": null,
      "outputs": [
        {
          "output_type": "stream",
          "text": [
            "18 anos de idade, TEM permissão para dirigir\n",
            "22 anos de idade, TEM permissão para dirigir\n",
            "15 anos de idade, NÃO TEM permissão para dirigir\n",
            "50 anos de idade, TEM permissão para dirigir\n"
          ],
          "name": "stdout"
        }
      ]
    },
    {
      "cell_type": "markdown",
      "metadata": {
        "id": "Jm6RyNXdVgOB"
      },
      "source": [
        "# **Boleano**"
      ]
    },
    {
      "cell_type": "code",
      "metadata": {
        "colab": {
          "base_uri": "https://localhost:8080/"
        },
        "id": "D7frLPuLS4-B",
        "outputId": "fe041075-9a84-4b6c-e864-56252b74d187"
      },
      "source": [
        "idade = 18\n",
        "idade >= 18"
      ],
      "execution_count": null,
      "outputs": [
        {
          "output_type": "execute_result",
          "data": {
            "text/plain": [
              "True"
            ]
          },
          "metadata": {
            "tags": []
          },
          "execution_count": 43
        }
      ]
    },
    {
      "cell_type": "code",
      "metadata": {
        "id": "YhsiLhyLVvQ3"
      },
      "source": [
        "permissoes = []\n",
        "idades = [20, 14, 40]\n",
        "\n",
        "def verifica_se_pode_dirigir(idades, permissoes):\n",
        "  for idade in idades:\n",
        "    if idade >= 18:\n",
        "      permissoes.append(True)\n",
        "    else:\n",
        "      permissoes.append(False)\n",
        "\n",
        "verifica_se_pode_dirigir(idades, permissoes)"
      ],
      "execution_count": null,
      "outputs": []
    },
    {
      "cell_type": "code",
      "metadata": {
        "colab": {
          "base_uri": "https://localhost:8080/"
        },
        "id": "VH8CBUgQWPdt",
        "outputId": "02f17059-03d9-45cf-ffa7-a1129dc9b5fd"
      },
      "source": [
        "permissoes\n"
      ],
      "execution_count": null,
      "outputs": [
        {
          "output_type": "execute_result",
          "data": {
            "text/plain": [
              "[True, False, True]"
            ]
          },
          "metadata": {
            "tags": []
          },
          "execution_count": 50
        }
      ]
    },
    {
      "cell_type": "code",
      "metadata": {
        "colab": {
          "base_uri": "https://localhost:8080/"
        },
        "id": "iyRqMDSKX8vQ",
        "outputId": "a8b832e2-b6fa-4ca9-bddc-0c7ad95ba5e4"
      },
      "source": [
        "for permissao in permissoes:\n",
        "  if permissao == True:\n",
        "    print('Tem permissão para dirigir')\n",
        "  else:\n",
        "    print('Não tem permissão para dirigir')  "
      ],
      "execution_count": null,
      "outputs": [
        {
          "output_type": "stream",
          "text": [
            "Tem permissão para dirigir\n",
            "Não tem permissão para dirigir\n",
            "Tem permissão para dirigir\n"
          ],
          "name": "stdout"
        }
      ]
    },
    {
      "cell_type": "markdown",
      "metadata": {
        "id": "8cuAM5isGHQo"
      },
      "source": [
        "# **tipos em uma lista**"
      ]
    },
    {
      "cell_type": "code",
      "metadata": {
        "id": "MZCd4uD5YJN9",
        "colab": {
          "base_uri": "https://localhost:8080/"
        },
        "outputId": "488434a4-5b6f-43b9-c293-ac3f0a41110d"
      },
      "source": [
        "lista = ['Vini', 22, True, '19']\n",
        "\n",
        "for elemento in lista :\n",
        "  print(f'O elemento {elemento} é do tipo: ', type(elemento))"
      ],
      "execution_count": 3,
      "outputs": [
        {
          "output_type": "stream",
          "text": [
            "O elemento Vini é do tipo:  <class 'str'>\n",
            "O elemento 22 é do tipo:  <class 'int'>\n",
            "O elemento True é do tipo:  <class 'bool'>\n",
            "O elemento 19 é do tipo:  <class 'str'>\n"
          ],
          "name": "stdout"
        }
      ]
    },
    {
      "cell_type": "markdown",
      "metadata": {
        "id": "kwvgp8sVHaiq"
      },
      "source": [
        "# **Import**"
      ]
    },
    {
      "cell_type": "code",
      "metadata": {
        "id": "c10_97q3Hdzj"
      },
      "source": [
        "from random import randrange, seed"
      ],
      "execution_count": 11,
      "outputs": []
    },
    {
      "cell_type": "code",
      "metadata": {
        "id": "DZjyb3rTIYvl"
      },
      "source": [
        "seed(10)"
      ],
      "execution_count": 12,
      "outputs": []
    },
    {
      "cell_type": "code",
      "metadata": {
        "colab": {
          "base_uri": "https://localhost:8080/"
        },
        "id": "Ow84rd66HlZw",
        "outputId": "8919e68a-dbb8-4c9d-e3ff-eeb2c4dfcd6f"
      },
      "source": [
        "randrange(0, 11)"
      ],
      "execution_count": 7,
      "outputs": [
        {
          "output_type": "execute_result",
          "data": {
            "text/plain": [
              "4"
            ]
          },
          "metadata": {
            "tags": []
          },
          "execution_count": 7
        }
      ]
    },
    {
      "cell_type": "code",
      "metadata": {
        "colab": {
          "base_uri": "https://localhost:8080/"
        },
        "id": "E6G_TkqKHyth",
        "outputId": "9e146ad4-ddcc-490c-b767-e4d722296439"
      },
      "source": [
        "notas_mat = []\n",
        "for notas in range(8):\n",
        "  notas_mat.append(randrange(0,11))\n",
        "notas_mat"
      ],
      "execution_count": 14,
      "outputs": [
        {
          "output_type": "execute_result",
          "data": {
            "text/plain": [
              "[9, 0, 3, 7, 7, 4, 10, 2]"
            ]
          },
          "metadata": {
            "tags": []
          },
          "execution_count": 14
        }
      ]
    },
    {
      "cell_type": "markdown",
      "metadata": {
        "id": "6AgF55ZOJTJz"
      },
      "source": [
        "# **Matplotlib**"
      ]
    },
    {
      "cell_type": "code",
      "metadata": {
        "id": "Tdy1kUknJZmZ"
      },
      "source": [
        "import matplotlib.pyplot as plt"
      ],
      "execution_count": 15,
      "outputs": []
    },
    {
      "cell_type": "code",
      "metadata": {
        "colab": {
          "base_uri": "https://localhost:8080/",
          "height": 295
        },
        "id": "GNengfCTJona",
        "outputId": "32774ef9-1a50-4d72-a038-f7316df80086"
      },
      "source": [
        "x = list(range(1,9))\n",
        "y = notas_mat\n",
        "plt.plot(x,y, marker='o')\n",
        "plt.title('notas de matematica')\n",
        "plt.xlabel('provas')\n",
        "plt.ylabel('Notas')\n",
        "plt.show()"
      ],
      "execution_count": 21,
      "outputs": [
        {
          "output_type": "display_data",
          "data": {
            "image/png": "[encoded data removed]",
            "text/plain": [
              "<Figure size 432x288 with 1 Axes>"
            ]
          },
          "metadata": {
            "tags": [],
            "needs_background": "light"
          }
        }
      ]
    }
  ]
}